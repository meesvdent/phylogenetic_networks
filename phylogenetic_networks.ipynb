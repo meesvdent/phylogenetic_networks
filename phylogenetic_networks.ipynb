{
 "cells": [
  {
   "cell_type": "code",
   "execution_count": 179,
   "metadata": {
    "collapsed": true
   },
   "outputs": [
    {
     "data": {
      "text/plain": [
       "<module 'models' from '/Users/meesvdent/Developer/phylogenetic_networks/models.py'>"
      ]
     },
     "execution_count": 179,
     "metadata": {},
     "output_type": "execute_result"
    }
   ],
   "source": [
    "import importlib\n",
    "\n",
    "import models\n",
    "from models import PhylogeneticNetwork\n",
    "\n",
    "importlib.reload(models)"
   ]
  },
  {
   "cell_type": "code",
   "execution_count": 187,
   "metadata": {},
   "outputs": [],
   "source": [
    "import numpy as np\n",
    "\n",
    "sequences = [\n",
    "    [0, 0, 0, 0, 0],\n",
    "    [0, 1, 0, 0, 0],\n",
    "    [0, 1, 1, 0, 0],\n",
    "    [0, 1, 1, 1, 0],\n",
    "    [0, 1, 1, 1, 1],\n",
    "]\n",
    "\n",
    "\n",
    "sequences_2 = [\n",
    "    [0, 0, 1, 1, 0],\n",
    "    [0, 0, 1, 0, 0],\n",
    "    [0, 0, 0, 0, 0],\n",
    "    [0, 1, 0, 0, 0],\n",
    "    [0, 1, 1, 0, 0],\n",
    "    [0, 1, 1, 1, 0],\n",
    "    [0, 1, 1, 1, 1],\n",
    "]\n",
    "\n",
    "species = list(range(len(sequences)))\n",
    "features = list(range(len(sequences[0])))\n",
    "\n",
    "species2 = list(range(len(sequences_2)))\n",
    "features_2 = list(range(len(sequences_2[0])))\n"
   ]
  },
  {
   "cell_type": "code",
   "execution_count": 188,
   "metadata": {},
   "outputs": [
    {
     "data": {
      "text/plain": [
       "<models.PhylogeneticNetwork at 0x10a965400>"
      ]
     },
     "execution_count": 188,
     "metadata": {},
     "output_type": "execute_result"
    }
   ],
   "source": [
    "n = PhylogeneticNetwork(sequences=sequences, species=species, features=features)\n",
    "n.find_hierarchy()\n",
    "\n",
    "p = PhylogeneticNetwork(sequences=sequences_2, species=species2, features=features_2)\n",
    "p.find_hierarchy()"
   ]
  },
  {
   "cell_type": "code",
   "execution_count": 195,
   "metadata": {},
   "outputs": [
    {
     "name": "stdout",
     "output_type": "stream",
     "text": [
      "0\n1\n2\n3\n4\n[<models.Node object at 0x10a965b00>]\n[<models.Node object at 0x10a965ba8>, <models.Node object at 0x10a965940>]\n"
     ]
    }
   ],
   "source": [
    "print(n.name)\n",
    "print(n.children[0].name)\n",
    "print(n.children[0].children[0].name)\n",
    "print(n.children[0].children[0].children[0].name)\n",
    "print(n.children[0].children[0].children[0].children[0].name)\n",
    "\n",
    "\n",
    "print(n.children)\n",
    "print(p.children)"
   ]
  },
  {
   "cell_type": "code",
   "execution_count": 161,
   "metadata": {},
   "outputs": [],
   "source": []
  },
  {
   "cell_type": "code",
   "execution_count": 161,
   "metadata": {},
   "outputs": [],
   "source": []
  },
  {
   "cell_type": "code",
   "execution_count": 161,
   "metadata": {},
   "outputs": [],
   "source": []
  },
  {
   "cell_type": "code",
   "execution_count": null,
   "metadata": {},
   "outputs": [],
   "source": []
  }
 ],
 "metadata": {
  "kernelspec": {
   "display_name": "Python 2",
   "language": "python",
   "name": "python2"
  },
  "language_info": {
   "codemirror_mode": {
    "name": "ipython",
    "version": 2
   },
   "file_extension": ".py",
   "mimetype": "text/x-python",
   "name": "python",
   "nbconvert_exporter": "python",
   "pygments_lexer": "ipython2",
   "version": "2.7.6"
  }
 },
 "nbformat": 4,
 "nbformat_minor": 0
}
