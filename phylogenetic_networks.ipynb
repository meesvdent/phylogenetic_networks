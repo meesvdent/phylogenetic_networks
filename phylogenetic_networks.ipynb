{
 "cells": [
  {
   "cell_type": "markdown",
   "metadata": {},
   "source": [
    "# Phylogenetic networks\n",
    "\n",
    "*Implementing the phylogenetic network class.  *\n",
    "\n",
    "## Import libraries and PhylogeneticNetwork class"
   ]
  },
  {
   "cell_type": "code",
   "execution_count": 4,
   "metadata": {},
   "outputs": [
    {
     "data": {
      "text/plain": [
       "<module 'models' from '/Users/meesvdent/Developer/phylogenetic_networks/models.py'>"
      ]
     },
     "execution_count": 4,
     "metadata": {},
     "output_type": "execute_result"
    }
   ],
   "source": [
    "import importlib\n",
    "\n",
    "import models\n",
    "from models import PhylogeneticNetwork\n",
    "\n",
    "importlib.reload(models)"
   ]
  },
  {
   "cell_type": "markdown",
   "metadata": {},
   "source": [
    "## Input\n",
    "\n",
    "Creating two sets of 2 dimensional data.  \n",
    "  \n",
    "**Rows** represent different species.  \n",
    "**Columns** represent different \"features\" this can be interpreted as animal features or changes in genomes.\n",
    "\n",
    "First set (sequences) should give rise to a linear tree, where sequences_2 should give rise to a branched tree."
   ]
  },
  {
   "cell_type": "code",
   "execution_count": 5,
   "metadata": {},
   "outputs": [],
   "source": [
    "import numpy as np\n",
    "\n",
    "sequences = [\n",
    "    [0, 0, 0, 0, 0],\n",
    "    [0, 1, 0, 0, 0],\n",
    "    [0, 1, 1, 0, 0],\n",
    "    [0, 1, 1, 1, 0],\n",
    "    [0, 1, 1, 1, 1],\n",
    "]\n",
    "\n",
    "\n",
    "sequences_2 = [\n",
    "    [0, 0, 1, 1, 0],\n",
    "    [0, 0, 1, 0, 0],\n",
    "    [0, 0, 0, 0, 0],\n",
    "    [0, 1, 0, 0, 0],\n",
    "    [0, 1, 1, 0, 0],\n",
    "    [0, 1, 1, 1, 0],\n",
    "    [0, 1, 1, 1, 1],\n",
    "]\n",
    "\n",
    "species = list(range(len(sequences))) #  Names of species\n",
    "features = list(range(len(sequences[0]))) #  Names of features\n",
    "\n",
    "species2 = list(range(len(sequences_2)))\n",
    "features_2 = list(range(len(sequences_2[0])))\n"
   ]
  },
  {
   "cell_type": "markdown",
   "metadata": {},
   "source": [
    "## Create class object and calculate hierarchy"
   ]
  },
  {
   "cell_type": "code",
   "execution_count": 6,
   "metadata": {},
   "outputs": [
    {
     "data": {
      "text/plain": [
       "<models.PhylogeneticNetwork at 0x113ac6b38>"
      ]
     },
     "execution_count": 6,
     "metadata": {},
     "output_type": "execute_result"
    }
   ],
   "source": [
    "n = PhylogeneticNetwork(sequences=sequences, species=species, features=features)\n",
    "n.find_hierarchy()\n",
    "\n",
    "p = PhylogeneticNetwork(sequences=sequences_2, species=species2, features=features_2)\n",
    "p.find_hierarchy()"
   ]
  },
  {
   "cell_type": "markdown",
   "metadata": {},
   "source": [
    "## Testing result"
   ]
  },
  {
   "cell_type": "code",
   "execution_count": 7,
   "metadata": {},
   "outputs": [
    {
     "name": "stdout",
     "output_type": "stream",
     "text": [
      "0\n",
      "1\n",
      "2\n",
      "3\n",
      "4\n",
      "[<models.Node object at 0x113ac6a90>]\n",
      "[<models.Node object at 0x113ac6cc0>, <models.Node object at 0x113ac6b70>]\n"
     ]
    }
   ],
   "source": [
    "print(n.name)\n",
    "print(n.children[0].name)\n",
    "print(n.children[0].children[0].name)\n",
    "print(n.children[0].children[0].children[0].name)\n",
    "print(n.children[0].children[0].children[0].children[0].name)\n",
    "\n",
    "\n",
    "print(n.children)\n",
    "print(p.children)"
   ]
  }
 ],
 "metadata": {
  "kernelspec": {
   "display_name": "Python 3",
   "language": "python",
   "name": "python3"
  },
  "language_info": {
   "codemirror_mode": {
    "name": "ipython",
    "version": 3
   },
   "file_extension": ".py",
   "mimetype": "text/x-python",
   "name": "python",
   "nbconvert_exporter": "python",
   "pygments_lexer": "ipython3",
   "version": "3.6.4"
  }
 },
 "nbformat": 4,
 "nbformat_minor": 1
}
