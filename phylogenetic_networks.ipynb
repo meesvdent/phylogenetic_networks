{
 "cells": [
  {
   "cell_type": "markdown",
   "metadata": {},
   "source": [
    "# Phylogenetic networks\n",
    "\n",
    "*Implementing the phylogenetic network class.  *\n",
    "\n",
    "## Import libraries and PhylogeneticNetwork class"
   ]
  },
  {
   "cell_type": "code",
   "execution_count": 1,
   "metadata": {},
   "outputs": [
    {
     "data": {
      "text/plain": [
       "<module 'models' from '/Users/meesvdent/Developer/phylogenetic_networks/models.py'>"
      ]
     },
     "execution_count": 1,
     "metadata": {},
     "output_type": "execute_result"
    }
   ],
   "source": [
    "import importlib\n",
    "import string\n",
    "\n",
    "import networkx as nx\n",
    "import pydot\n",
    "from networkx.drawing.nx_pydot import graphviz_layout\n",
    "\n",
    "import matplotlib.pyplot as plt\n",
    "\n",
    "import models\n",
    "from models import PhylogeneticNetwork\n",
    "\n",
    "importlib.reload(models)"
   ]
  },
  {
   "cell_type": "markdown",
   "metadata": {},
   "source": [
    "## Input\n",
    "\n",
    "Creating two matrices with two dimensions.  \n",
    "  \n",
    "**Rows** represent different species, all rows must be unique.  \n",
    "**Columns** represent different \"features\" this can be interpreted as animal features or changes in genomes.\n",
    "\n",
    "First set (sequences) should give rise to a linear tree, where sequences_2 should give rise to a branched tree and sequences_3 has a missing link."
   ]
  },
  {
   "cell_type": "code",
   "execution_count": 2,
   "metadata": {},
   "outputs": [],
   "source": [
    "import numpy as np\n",
    "\n",
    "sequences = [\n",
    "    [0, 0, 0, 0, 0],\n",
    "    [0, 1, 0, 0, 0],\n",
    "    [0, 1, 1, 0, 0],\n",
    "    [0, 1, 1, 1, 0],\n",
    "    [0, 1, 1, 1, 1],\n",
    "]\n",
    "\n",
    "\n",
    "sequences_2 = [\n",
    "    [0, 0, 1, 1, 0],\n",
    "    [0, 0, 1, 0, 0],\n",
    "    [0, 0, 0, 0, 0],\n",
    "    [0, 1, 0, 0, 0],\n",
    "    [0, 1, 1, 0, 0],\n",
    "    [0, 1, 1, 1, 0],\n",
    "    [0, 1, 1, 1, 1],\n",
    "]\n",
    "\n",
    "sequences_3 = [\n",
    "    [1, 0, 0, 0, 0],\n",
    "    [0, 1, 0, 0, 0], \n",
    "    [0, 1, 1, 1, 0],\n",
    "    [0, 1, 1, 0, 1]\n",
    "]\n",
    "\n",
    "species = list(string.ascii_lowercase[0:len(sequences)]) #  Names of species\n",
    "features = list(range(len(sequences[0]))) #  Names of features\n",
    "\n",
    "species_2 = list(string.ascii_lowercase[0:len(sequences_2)])\n",
    "features_2 = list(range(len(sequences_2[0])))\n",
    "\n",
    "species_3 = list(string.ascii_lowercase[0:len(sequences_3)]) #  Names of species\n",
    "features_3 = list(range(len(sequences_3[0]))) #  Names of features\n"
   ]
  },
  {
   "cell_type": "markdown",
   "metadata": {},
   "source": [
    "## Create class object and calculate hierarchy"
   ]
  },
  {
   "cell_type": "code",
   "execution_count": 3,
   "metadata": {},
   "outputs": [
    {
     "data": {
      "text/plain": [
       "<models.PhylogeneticNetwork at 0x112358a30>"
      ]
     },
     "execution_count": 3,
     "metadata": {},
     "output_type": "execute_result"
    }
   ],
   "source": [
    "n = PhylogeneticNetwork(sequences=sequences, species=species, features=features)\n",
    "n.find_hierarchy()\n",
    "\n",
    "p = PhylogeneticNetwork(sequences=sequences_2, species=species_2, features=features_2)\n",
    "p.find_hierarchy()\n",
    "\n",
    "o = PhylogeneticNetwork(sequences=sequences_3, species=species_3, features=features_3)\n",
    "o.find_hierarchy()"
   ]
  },
  {
   "cell_type": "markdown",
   "metadata": {},
   "source": [
    "## Testing result"
   ]
  },
  {
   "cell_type": "code",
   "execution_count": 4,
   "metadata": {},
   "outputs": [
    {
     "name": "stdout",
     "output_type": "stream",
     "text": [
      "a\n",
      "b\n",
      "c\n",
      "d\n",
      "e\n",
      "[<models.Node object at 0x112358970>]\n",
      "[<models.Node object at 0x1123588b0>, <models.Node object at 0x112358d90>]\n",
      "[('a', 'b'), ('b', 'c'), ('c', 'd'), ('d', 'e')]\n",
      "[('c', 'd'), ('c', 'b'), ('b', 'a'), ('b', 'e'), ('e', 'f'), ('f', 'g')]\n"
     ]
    }
   ],
   "source": [
    "print(n.name)\n",
    "print(n.children[0].name)\n",
    "print(n.children[0].children[0].name)\n",
    "print(n.children[0].children[0].children[0].name)\n",
    "print(n.children[0].children[0].children[0].children[0].name)\n",
    "\n",
    "\n",
    "print(n.children)\n",
    "print(p.children)\n",
    "\n",
    "print(n.connections)\n",
    "print(p.connections)"
   ]
  },
  {
   "cell_type": "markdown",
   "metadata": {},
   "source": [
    "## Visualizing trees\n",
    "\n",
    "Using networkx to visualize graphs."
   ]
  },
  {
   "cell_type": "code",
   "execution_count": 5,
   "metadata": {},
   "outputs": [
    {
     "data": {
      "image/png": "[encoded data removed]",
      "text/plain": [
       "<Figure size 432x288 with 2 Axes>"
      ]
     },
     "metadata": {},
     "output_type": "display_data"
    },
    {
     "data": {
      "text/plain": [
       "<function matplotlib.pyplot.show(*args, **kw)>"
      ]
     },
     "execution_count": 5,
     "metadata": {},
     "output_type": "execute_result"
    },
    {
     "data": {
      "image/png": "[encoded data removed]",
      "text/plain": [
       "<Figure size 432x288 with 1 Axes>"
      ]
     },
     "metadata": {},
     "output_type": "display_data"
    }
   ],
   "source": [
    "n_graph = nx.DiGraph()\n",
    "n_graph.add_edges_from(n.connections)\n",
    "\n",
    "p_graph = nx.DiGraph()\n",
    "p_graph.add_edges_from(p.connections)\n",
    "\n",
    "o_graph = nx.DiGraph()\n",
    "o_graph.add_edges_from(o.connections)\n",
    "\n",
    "n_pos = graphviz_layout(n_graph, prog=\"dot\")\n",
    "p_pos = graphviz_layout(p_graph, prog=\"dot\")\n",
    "o_pos = graphviz_layout(o_graph, prog=\"dot\")\n",
    "\n",
    "plt.subplot(121)\n",
    "nx.draw(n_graph, n_pos, with_labels=True, node_shape='s')\n",
    "plt.subplot(122)\n",
    "nx.draw(p_graph, p_pos, with_labels=True, node_shape='s')\n",
    "plt.show()\n",
    "plt.subplot(111)\n",
    "nx.draw(o_graph, o_pos, with_labels=True, node_shape='s')\n",
    "plt.show"
   ]
  },
  {
   "cell_type": "code",
   "execution_count": null,
   "metadata": {},
   "outputs": [],
   "source": []
  }
 ],
 "metadata": {
  "kernelspec": {
   "display_name": "networks_env",
   "language": "python",
   "name": "networks_env"
  },
  "language_info": {
   "codemirror_mode": {
    "name": "ipython",
    "version": 3
   },
   "file_extension": ".py",
   "mimetype": "text/x-python",
   "name": "python",
   "nbconvert_exporter": "python",
   "pygments_lexer": "ipython3",
   "version": "3.8.2"
  }
 },
 "nbformat": 4,
 "nbformat_minor": 1
}
